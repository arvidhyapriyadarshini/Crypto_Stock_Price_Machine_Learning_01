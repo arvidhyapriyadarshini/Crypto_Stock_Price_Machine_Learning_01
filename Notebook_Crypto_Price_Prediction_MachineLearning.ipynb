{
  "nbformat": 4,
  "nbformat_minor": 0,
  "metadata": {
    "colab": {
      "provenance": []
    },
    "kernelspec": {
      "name": "python3",
      "display_name": "Python 3"
    },
    "language_info": {
      "name": "python"
    }
  },
  "cells": [
    {
      "cell_type": "markdown",
      "source": [
        "## Cryptocurrency Price Prediction with Python"
      ],
      "metadata": {
        "id": "GrMvS1P8oHwa"
      }
    },
    {
      "cell_type": "code",
      "execution_count": null,
      "metadata": {
        "colab": {
          "base_uri": "https://localhost:8080/"
        },
        "id": "F7T4ag1vWLEg",
        "outputId": "62360c1d-86bb-4f95-d6e0-f3690b2abfe4"
      },
      "outputs": [
        {
          "output_type": "stream",
          "name": "stdout",
          "text": [
            "        Date          Open          High           Low         Close  \\\n",
            "0 2021-07-14  32723.845703  33061.398438  31639.125000  32822.347656   \n",
            "1 2021-07-15  32827.875000  33159.640625  31175.708984  31780.730469   \n",
            "2 2021-07-16  31841.550781  32218.406250  31100.673828  31421.539062   \n",
            "3 2021-07-17  31397.308594  31935.945312  31223.990234  31533.068359   \n",
            "4 2021-07-18  31533.884766  32398.996094  31215.492188  31796.810547   \n",
            "\n",
            "      Adj Close       Volume  \n",
            "0  32822.347656  21376531210  \n",
            "1  31780.730469  21300524237  \n",
            "2  31421.539062  23699476918  \n",
            "3  31533.068359  18895018942  \n",
            "4  31796.810547  18787986667  \n"
          ]
        }
      ],
      "source": [
        "import pandas as pd\n",
        "import yfinance as yf\n",
        "import datetime\n",
        "from datetime import date, timedelta\n",
        "today = date.today()\n",
        "\n",
        "d01 = today.strftime(\"%Y-%m-%d\")\n",
        "end_date = d11\n",
        "d02 = date.today() - timedelta(days=730)\n",
        "d02 = d02.strftime(\"%Y-%m-%d\")\n",
        "start_date = d02\n",
        "\n",
        "data01 = yf.download('BTC-USD',\n",
        "                      start=start_date,\n",
        "                      end=end_date,\n",
        "                      progress=False)\n",
        "data01[\"Date\"] = data01.index\n",
        "data = data01[[\"Date\",\"Open\", \"High\", \"Low\", \"Close\", \"Adj Close\", \"Volume\"]]\n",
        "data.reset_index(drop=True, inplace=True)\n",
        "print(data01.head())"
      ]
    },
    {
      "cell_type": "code",
      "source": [
        "# Save data to CSV\n",
        "data.to_csv('bitcoin_data.csv', index=False)"
      ],
      "metadata": {
        "id": "_cFwonACWMvi"
      },
      "execution_count": 1,
      "outputs": []
    },
    {
      "cell_type": "code",
      "source": [
        "correlation = data.corr()\n",
        "print(correlation[\"Close\"].sort_values(ascending=False))"
      ],
      "metadata": {
        "colab": {
          "base_uri": "https://localhost:8080/"
        },
        "id": "i-h2dM_fYZ7d",
        "outputId": "c76ee960-5a13-4c50-a2c2-cd35959eeb08"
      },
      "execution_count": null,
      "outputs": [
        {
          "output_type": "stream",
          "name": "stdout",
          "text": [
            "Close        1.000000\n",
            "Adj Close    1.000000\n",
            "High         0.998267\n",
            "Low          0.998195\n",
            "Open         0.996041\n",
            "Volume       0.199089\n",
            "Name: Close, dtype: float64\n"
          ]
        },
        {
          "output_type": "stream",
          "name": "stderr",
          "text": [
            "<ipython-input-4-81091e368782>:1: FutureWarning: The default value of numeric_only in DataFrame.corr is deprecated. In a future version, it will default to False. Select only valid columns or specify the value of numeric_only to silence this warning.\n",
            "  correlation = data.corr()\n"
          ]
        }
      ]
    },
    {
      "cell_type": "code",
      "source": [
        "pip install AutoTS"
      ],
      "metadata": {
        "colab": {
          "base_uri": "https://localhost:8080/"
        },
        "id": "WVeckZbpYfS1",
        "outputId": "b9605c75-bef3-402e-b320-f13c421dca42"
      },
      "execution_count": null,
      "outputs": [
        {
          "output_type": "stream",
          "name": "stdout",
          "text": [
            "Collecting AutoTS\n",
            "  Downloading autots-0.5.8-py3-none-any.whl (713 kB)\n",
            "\u001b[?25l     \u001b[90m━━━━━━━━━━━━━━━━━━━━━━━━━━━━━━━━━━━━━━━━\u001b[0m \u001b[32m0.0/713.7 kB\u001b[0m \u001b[31m?\u001b[0m eta \u001b[36m-:--:--\u001b[0m\r\u001b[2K     \u001b[91m━━━━━━━━━━━━━━━\u001b[0m\u001b[90m╺\u001b[0m\u001b[90m━━━━━━━━━━━━━━━━━━━━━━━\u001b[0m \u001b[32m276.5/713.7 kB\u001b[0m \u001b[31m8.5 MB/s\u001b[0m eta \u001b[36m0:00:01\u001b[0m\r\u001b[2K     \u001b[90m━━━━━━━━━━━━━━━━━━━━━━━━━━━━━━━━━━━━━━\u001b[0m \u001b[32m713.7/713.7 kB\u001b[0m \u001b[31m13.0 MB/s\u001b[0m eta \u001b[36m0:00:00\u001b[0m\n",
            "\u001b[?25hRequirement already satisfied: numpy>=1.14.6 in /usr/local/lib/python3.10/dist-packages (from AutoTS) (1.22.4)\n",
            "Requirement already satisfied: pandas>=0.25.0 in /usr/local/lib/python3.10/dist-packages (from AutoTS) (1.5.3)\n",
            "Requirement already satisfied: statsmodels>=0.10.0 in /usr/local/lib/python3.10/dist-packages (from AutoTS) (0.13.5)\n",
            "Requirement already satisfied: scikit-learn>=0.20.0 in /usr/local/lib/python3.10/dist-packages (from AutoTS) (1.2.2)\n",
            "Requirement already satisfied: python-dateutil>=2.8.1 in /usr/local/lib/python3.10/dist-packages (from pandas>=0.25.0->AutoTS) (2.8.2)\n",
            "Requirement already satisfied: pytz>=2020.1 in /usr/local/lib/python3.10/dist-packages (from pandas>=0.25.0->AutoTS) (2022.7.1)\n",
            "Requirement already satisfied: scipy>=1.3.2 in /usr/local/lib/python3.10/dist-packages (from scikit-learn>=0.20.0->AutoTS) (1.10.1)\n",
            "Requirement already satisfied: joblib>=1.1.1 in /usr/local/lib/python3.10/dist-packages (from scikit-learn>=0.20.0->AutoTS) (1.3.1)\n",
            "Requirement already satisfied: threadpoolctl>=2.0.0 in /usr/local/lib/python3.10/dist-packages (from scikit-learn>=0.20.0->AutoTS) (3.1.0)\n",
            "Requirement already satisfied: patsy>=0.5.2 in /usr/local/lib/python3.10/dist-packages (from statsmodels>=0.10.0->AutoTS) (0.5.3)\n",
            "Requirement already satisfied: packaging>=21.3 in /usr/local/lib/python3.10/dist-packages (from statsmodels>=0.10.0->AutoTS) (23.1)\n",
            "Requirement already satisfied: six in /usr/local/lib/python3.10/dist-packages (from patsy>=0.5.2->statsmodels>=0.10.0->AutoTS) (1.16.0)\n",
            "Installing collected packages: AutoTS\n",
            "Successfully installed AutoTS-0.5.8\n"
          ]
        }
      ]
    },
    {
      "cell_type": "code",
      "source": [
        "\n",
        "from autots import AutoTS\n",
        "\n",
        "# Create the AutoTS model\n",
        "model = AutoTS(forecast_length=10, frequency='infer', ensemble='simple')\n",
        "\n",
        "# Fit the model to the data\n",
        "model = model.fit(data, date_col='Date', value_col='Close', id_col=None)\n",
        "\n",
        "# Make predictions\n",
        "prediction = model.predict()\n",
        "\n",
        "# Get the forecasted values\n",
        "forecast = prediction.forecast"
      ],
      "metadata": {
        "id": "KQCSQ9CoYiik"
      },
      "execution_count": 2,
      "outputs": []
    },
    {
      "cell_type": "code",
      "source": [
        "print(forecast)"
      ],
      "metadata": {
        "colab": {
          "base_uri": "https://localhost:8080/"
        },
        "id": "DpF8oIanYlqP",
        "outputId": "d955cfeb-a03a-4596-e1dd-abf0191c6c4b"
      },
      "execution_count": null,
      "outputs": [
        {
          "output_type": "stream",
          "name": "stdout",
          "text": [
            "                   Close\n",
            "2023-07-14  31063.425245\n",
            "2023-07-15  31133.333440\n",
            "2023-07-16  31190.913798\n",
            "2023-07-17  31233.702707\n",
            "2023-07-18  31283.559522\n",
            "2023-07-19  31301.241464\n",
            "2023-07-20  31279.585254\n",
            "2023-07-21  31203.141290\n",
            "2023-07-22  31208.141938\n",
            "2023-07-23  31219.376354\n"
          ]
        }
      ]
    },
    {
      "cell_type": "code",
      "source": [],
      "metadata": {
        "id": "HxPY5LTLgRTM"
      },
      "execution_count": null,
      "outputs": []
    }
  ]
}